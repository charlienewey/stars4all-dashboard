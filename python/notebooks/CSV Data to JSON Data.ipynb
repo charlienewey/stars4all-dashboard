{
 "cells": [
  {
   "cell_type": "code",
   "execution_count": null,
   "metadata": {
    "collapsed": true
   },
   "outputs": [],
   "source": [
    "#! /usr/bin/env python3\n",
    "\n",
    "import glob\n",
    "import json\n",
    "import os\n",
    "import sys\n",
    "\n",
    "import pandas as pd\n",
    "\n",
    "\n",
    "files = glob.glob(\"./metrics/monthly/*.csv\")\n",
    "data_list = []\n",
    "\n",
    "for path in files:\n",
    "    # read csv, dump to json\n",
    "    df = pd.read_csv(path, skip_blank_lines=True).set_index(\"finish_time\")\n",
    "    df.rename(columns={\"finish_time\": \"Date\"}, inplace=True)\n",
    "    data_dict = df.to_dict()\n",
    "    data_dict[\"Name\"] = os.path.splitext(os.path.basename(path))[0]\n",
    "\n",
    "    # convert nested dictionaries to lists\n",
    "    data = {}\n",
    "    for key, value in data_dict.items():    \n",
    "        if isinstance(data_dict[key], dict):\n",
    "            data[key] = []\n",
    "            for key_, value_ in value.items():\n",
    "                data[key].append([key_, value_])\n",
    "                \n",
    "            data[key] = sorted(data[key], key=lambda x: x[0])\n",
    "            \n",
    "            data[key + \"Max\"] = max(map(lambda x: x[1], data[key]))\n",
    "            data[key + \"Min\"] = min(map(lambda x: x[1], data[key]))\n",
    "        else:\n",
    "            data[key] = value\n",
    "\n",
    "    data_list.append(data)\n",
    "    \n",
    "# dump list as json\n",
    "with open(\"data.json\", \"w\") as out_json:\n",
    "    json.dump(data_list, out_json)"
   ]
  }
 ],
 "metadata": {
  "kernelspec": {
   "display_name": "Python 3",
   "language": "python",
   "name": "python3"
  },
  "language_info": {
   "codemirror_mode": {
    "name": "ipython",
    "version": 3
   },
   "file_extension": ".py",
   "mimetype": "text/x-python",
   "name": "python",
   "nbconvert_exporter": "python",
   "pygments_lexer": "ipython3",
   "version": "3.5.2"
  }
 },
 "nbformat": 4,
 "nbformat_minor": 2
}
