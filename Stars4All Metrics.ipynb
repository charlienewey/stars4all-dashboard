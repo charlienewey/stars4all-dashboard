{
 "cells": [
  {
   "cell_type": "code",
   "execution_count": 98,
   "metadata": {},
   "outputs": [],
   "source": [
    "%matplotlib inline\n",
    "\n",
    "import numpy as np\n",
    "import pandas as pd\n",
    "import seaborn as sns\n",
    "\n",
    "sns.set(font=\"DejaVu Sans\")"
   ]
  },
  {
   "cell_type": "code",
   "execution_count": 99,
   "metadata": {},
   "outputs": [
    {
     "name": "stderr",
     "output_type": "stream",
     "text": [
      "/usr/local/lib/python3.5/dist-packages/IPython/core/interactiveshell.py:2698: DtypeWarning: Columns (13,17) have mixed types. Specify dtype option on import or set low_memory=False.\n",
      "  interactivity=interactivity, compiler=compiler, result=result)\n"
     ]
    }
   ],
   "source": [
    "df = pd.read_csv(\"./LostAtNight_task_run.csv\").set_index(\"task_run__finish_time\")\n",
    "df.index = pd.to_datetime(df.index)"
   ]
  },
  {
   "cell_type": "markdown",
   "metadata": {},
   "source": [
    "# Calculation of Metrics\n",
    "\n",
    "All metrics are lifted almost directly from the paper [\"How is success defined and measured in online citizen science?\"][1]. Some of these metrics are a bit arbitrary and the reasons behind some of the decisions for the representation of project age, etc, are a bit arcane - bear that in mind.\n",
    "\n",
    "[1]: https://dx.doi.org/10.1109/MCSE.2015.65"
   ]
  },
  {
   "cell_type": "markdown",
   "metadata": {},
   "source": [
    "## Public Engagement"
   ]
  },
  {
   "cell_type": "code",
   "execution_count": 100,
   "metadata": {
    "collapsed": true
   },
   "outputs": [],
   "source": [
    "def project_appeal(num_users, active_period):\n",
    "    return num_users / (active_period ** 2)\n",
    "\n",
    "def public_contribution(median_cpv, active_period):\n",
    "    return median_cpv / (active_period ** 2)\n",
    "\n",
    "def sustained_engagement(median_vap, active_period):\n",
    "    return median_vap / (active_period ** 2)"
   ]
  },
  {
   "cell_type": "code",
   "execution_count": 110,
   "metadata": {},
   "outputs": [],
   "source": [
    "# Store metrics here\n",
    "metrics = {\n",
    "    \"years\": [],\n",
    "    \"appeal\": [],\n",
    "    \"contribution\": [],\n",
    "    \"engagement\": []\n",
    "}\n",
    "\n",
    "# Group data annually\n",
    "years = df.groupby(by=pd.TimeGrouper(\"AS\", closed=\"left\"))\n",
    "\n",
    "# Go through each year's data\n",
    "user_field = \"task_run__user_id\"\n",
    "time_field = \"task_run__created\"\n",
    "start_date = df.sort_index().index[0]\n",
    "for timestamp in sorted(years.groups.keys()):\n",
    "    year = timestamp.year\n",
    "    annual = df[df.index.year == year]\n",
    "    \n",
    "    # Project's active period\n",
    "    delta = annual.sort_index().index[-1] - start_date\n",
    "    active_weeks = delta.days / 7.0\n",
    "    \n",
    "    # Number of users\n",
    "    num_users = annual.groupby(user_field).count().shape[0]\n",
    "    \n",
    "    # Median classifications per user\n",
    "    median_cpv = annual.groupby(by=[user_field])[user_field].count().median()\n",
    "    \n",
    "    # Median volunteer active period\n",
    "    fst = pd.to_datetime(df.groupby(by=[user_field]).first()[time_field])\n",
    "    fst = fst.reset_index().set_index(user_field)\n",
    "\n",
    "    lst = pd.to_datetime(annual.groupby(by=[user_field]).last()[time_field])\n",
    "    lst = lst.reset_index().set_index(user_field)\n",
    "\n",
    "    fst_lst = lst.join(fst, how=\"left\", rsuffix=\"_fst\")\n",
    "\n",
    "    delta = fst_lst[time_field] - fst_lst[time_field + \"_fst\"]\n",
    "    median_vap = delta.median(axis=0).total_seconds() / 604800.0\n",
    "    \n",
    "    # Calculate metrics\n",
    "    metrics[\"years\"].append(year)\n",
    "    metrics[\"appeal\"].append(project_appeal(num_users, active_weeks))\n",
    "    metrics[\"contribution\"].append(public_contribution(median_cpv, active_weeks))\n",
    "    metrics[\"engagement\"].append(sustained_engagement(median_vap, active_weeks))"
   ]
  }
 ],
 "metadata": {
  "kernelspec": {
   "display_name": "Python 3",
   "language": "python",
   "name": "python3"
  },
  "language_info": {
   "codemirror_mode": {
    "name": "ipython",
    "version": 3
   },
   "file_extension": ".py",
   "mimetype": "text/x-python",
   "name": "python",
   "nbconvert_exporter": "python",
   "pygments_lexer": "ipython3",
   "version": "3.5.2"
  }
 },
 "nbformat": 4,
 "nbformat_minor": 2
}
